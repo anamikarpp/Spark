{
 "cells": [
  {
   "cell_type": "markdown",
   "id": "5e709b7c-5636-4fbb-bcd9-5e27e55a76fd",
   "metadata": {},
   "source": [
    "## Retail Data Analysis with PySpark 🚀\n",
    "\n",
    "🗂️ Sections in the Notebook:\n",
    "Setup Spark Session\n",
    "\n",
    "- Load & Explore Dataset\n",
    "\n",
    "- Data Cleaning\n",
    "\n",
    "- Feature Engineering\n",
    "\n",
    "- Exploratory Analysis (Aggregations)\n",
    "\n",
    "- Joins\n",
    "\n",
    "- Window Functions\n",
    "\n",
    "- Rollup & Cube (Advanced Grouping)\n",
    "\n",
    "- Conclusion"
   ]
  },
  {
   "cell_type": "markdown",
   "id": "ea3dd1e9-875e-4bb5-8d32-aca691a5b724",
   "metadata": {},
   "source": [
    "### Setup Spark Session"
   ]
  },
  {
   "cell_type": "code",
   "execution_count": 1,
   "id": "c8024a75-b895-44da-8a52-9a4747639273",
   "metadata": {},
   "outputs": [],
   "source": [
    "from pyspark.sql import SparkSession\n",
    "\n",
    "spark=SparkSession.builder.appName(\"Retail Data analysis\").getOrCreate()"
   ]
  },
  {
   "cell_type": "markdown",
   "id": "3a072db5-d584-49e7-83d4-f0e1ba18ed33",
   "metadata": {},
   "source": [
    "### Load and Explore Dataset"
   ]
  },
  {
   "cell_type": "code",
   "execution_count": 2,
   "id": "fcbb6aa8-dbec-4e63-bb54-97edb88ccfa9",
   "metadata": {},
   "outputs": [],
   "source": [
    "#read and load csv\n",
    "df = spark.read.format('csv')\\\n",
    "    .option(\"header\",\"true\")\\\n",
    "    .option(\"inferSchema\",\"true\")\\\n",
    "    .load(\"retail-data/all/online-retail-dataset.csv\")"
   ]
  },
  {
   "cell_type": "code",
   "execution_count": 3,
   "id": "1d6be925-37ed-4bc4-9ede-6e1f6ca7d0e4",
   "metadata": {},
   "outputs": [
    {
     "name": "stdout",
     "output_type": "stream",
     "text": [
      "root\n",
      " |-- InvoiceNo: string (nullable = true)\n",
      " |-- StockCode: string (nullable = true)\n",
      " |-- Description: string (nullable = true)\n",
      " |-- Quantity: integer (nullable = true)\n",
      " |-- InvoiceDate: string (nullable = true)\n",
      " |-- UnitPrice: double (nullable = true)\n",
      " |-- CustomerID: integer (nullable = true)\n",
      " |-- Country: string (nullable = true)\n",
      "\n"
     ]
    }
   ],
   "source": [
    "#show schema\n",
    "df.printSchema()"
   ]
  },
  {
   "cell_type": "code",
   "execution_count": 4,
   "id": "2a0f6937-f4e8-4b00-82af-355c83a6599a",
   "metadata": {},
   "outputs": [
    {
     "name": "stdout",
     "output_type": "stream",
     "text": [
      "+---------+---------+--------------------+--------+--------------+---------+----------+--------------+\n",
      "|InvoiceNo|StockCode|         Description|Quantity|   InvoiceDate|UnitPrice|CustomerID|       Country|\n",
      "+---------+---------+--------------------+--------+--------------+---------+----------+--------------+\n",
      "|   536365|   85123A|WHITE HANGING HEA...|       6|12/1/2010 8:26|     2.55|     17850|United Kingdom|\n",
      "|   536365|    71053| WHITE METAL LANTERN|       6|12/1/2010 8:26|     3.39|     17850|United Kingdom|\n",
      "|   536365|   84406B|CREAM CUPID HEART...|       8|12/1/2010 8:26|     2.75|     17850|United Kingdom|\n",
      "|   536365|   84029G|KNITTED UNION FLA...|       6|12/1/2010 8:26|     3.39|     17850|United Kingdom|\n",
      "|   536365|   84029E|RED WOOLLY HOTTIE...|       6|12/1/2010 8:26|     3.39|     17850|United Kingdom|\n",
      "+---------+---------+--------------------+--------+--------------+---------+----------+--------------+\n",
      "only showing top 5 rows\n",
      "\n"
     ]
    }
   ],
   "source": [
    "#Show few rows\n",
    "df.show(5)"
   ]
  },
  {
   "cell_type": "markdown",
   "id": "f3e503b4-6cbe-4bd5-af31-6c67bff89e79",
   "metadata": {},
   "source": [
    "### Data Cleaning"
   ]
  },
  {
   "cell_type": "code",
   "execution_count": 5,
   "id": "fa4fe7d7-0652-4091-95a6-ab8fa9df683e",
   "metadata": {},
   "outputs": [],
   "source": [
    "#Remove rows with nulls in important columns\n",
    "df_clean=df.dropna(subset=[\"CustomerID\",\"Description\"])"
   ]
  },
  {
   "cell_type": "code",
   "execution_count": 6,
   "id": "067a74e5-76a9-4069-b1d5-68e71c16fca0",
   "metadata": {},
   "outputs": [],
   "source": [
    "#Remove negative quanitities or unit prices\n",
    "df_clean=df_clean.filter((df_clean[\"Quantity\"]>0) & (df_clean[\"UnitPrice\"]>0))"
   ]
  },
  {
   "cell_type": "code",
   "execution_count": 7,
   "id": "a2c9ab7b-2ae2-482b-b8fa-a99cddd14024",
   "metadata": {},
   "outputs": [],
   "source": [
    "#Remove canceled orders (InvoiceNo starts with 'C')\n",
    "df_clean=df_clean.filter(~df_clean[\"InvoiceNo\"].startswith(\"C\"))"
   ]
  },
  {
   "cell_type": "code",
   "execution_count": 8,
   "id": "743ff419-5c00-4bb3-8cff-92181aef7a49",
   "metadata": {},
   "outputs": [
    {
     "name": "stdout",
     "output_type": "stream",
     "text": [
      "+---------+---------+--------------------+--------+--------------+---------+----------+--------------+\n",
      "|InvoiceNo|StockCode|         Description|Quantity|   InvoiceDate|UnitPrice|CustomerID|       Country|\n",
      "+---------+---------+--------------------+--------+--------------+---------+----------+--------------+\n",
      "|   536365|   85123A|WHITE HANGING HEA...|       6|12/1/2010 8:26|     2.55|     17850|United Kingdom|\n",
      "|   536365|    71053| WHITE METAL LANTERN|       6|12/1/2010 8:26|     3.39|     17850|United Kingdom|\n",
      "|   536365|   84406B|CREAM CUPID HEART...|       8|12/1/2010 8:26|     2.75|     17850|United Kingdom|\n",
      "|   536365|   84029G|KNITTED UNION FLA...|       6|12/1/2010 8:26|     3.39|     17850|United Kingdom|\n",
      "|   536365|   84029E|RED WOOLLY HOTTIE...|       6|12/1/2010 8:26|     3.39|     17850|United Kingdom|\n",
      "|   536365|    22752|SET 7 BABUSHKA NE...|       2|12/1/2010 8:26|     7.65|     17850|United Kingdom|\n",
      "|   536365|    21730|GLASS STAR FROSTE...|       6|12/1/2010 8:26|     4.25|     17850|United Kingdom|\n",
      "|   536366|    22633|HAND WARMER UNION...|       6|12/1/2010 8:28|     1.85|     17850|United Kingdom|\n",
      "|   536366|    22632|HAND WARMER RED P...|       6|12/1/2010 8:28|     1.85|     17850|United Kingdom|\n",
      "|   536367|    84879|ASSORTED COLOUR B...|      32|12/1/2010 8:34|     1.69|     13047|United Kingdom|\n",
      "|   536367|    22745|POPPY'S PLAYHOUSE...|       6|12/1/2010 8:34|      2.1|     13047|United Kingdom|\n",
      "|   536367|    22748|POPPY'S PLAYHOUSE...|       6|12/1/2010 8:34|      2.1|     13047|United Kingdom|\n",
      "|   536367|    22749|FELTCRAFT PRINCES...|       8|12/1/2010 8:34|     3.75|     13047|United Kingdom|\n",
      "|   536367|    22310|IVORY KNITTED MUG...|       6|12/1/2010 8:34|     1.65|     13047|United Kingdom|\n",
      "|   536367|    84969|BOX OF 6 ASSORTED...|       6|12/1/2010 8:34|     4.25|     13047|United Kingdom|\n",
      "|   536367|    22623|BOX OF VINTAGE JI...|       3|12/1/2010 8:34|     4.95|     13047|United Kingdom|\n",
      "|   536367|    22622|BOX OF VINTAGE AL...|       2|12/1/2010 8:34|     9.95|     13047|United Kingdom|\n",
      "|   536367|    21754|HOME BUILDING BLO...|       3|12/1/2010 8:34|     5.95|     13047|United Kingdom|\n",
      "|   536367|    21755|LOVE BUILDING BLO...|       3|12/1/2010 8:34|     5.95|     13047|United Kingdom|\n",
      "|   536367|    21777|RECIPE BOX WITH M...|       4|12/1/2010 8:34|     7.95|     13047|United Kingdom|\n",
      "+---------+---------+--------------------+--------+--------------+---------+----------+--------------+\n",
      "only showing top 20 rows\n",
      "\n"
     ]
    }
   ],
   "source": [
    "#show cleaned data\n",
    "df_clean.show()"
   ]
  },
  {
   "cell_type": "code",
   "execution_count": 9,
   "id": "b4229d90-2f5b-4e8d-add4-90a7758ffc78",
   "metadata": {},
   "outputs": [
    {
     "name": "stdout",
     "output_type": "stream",
     "text": [
      "+--------------+\n",
      "|InvoiceDate   |\n",
      "+--------------+\n",
      "|12/1/2010 8:26|\n",
      "|12/1/2010 8:26|\n",
      "|12/1/2010 8:26|\n",
      "|12/1/2010 8:26|\n",
      "|12/1/2010 8:26|\n",
      "+--------------+\n",
      "only showing top 5 rows\n",
      "\n"
     ]
    }
   ],
   "source": [
    "df_clean.select(\"InvoiceDate\").show(5, False)\n"
   ]
  },
  {
   "cell_type": "code",
   "execution_count": 10,
   "id": "fa139990-4a3f-463f-9d3a-0dafbb11481b",
   "metadata": {},
   "outputs": [
    {
     "name": "stdout",
     "output_type": "stream",
     "text": [
      "+--------------+\n",
      "|InvoiceDate   |\n",
      "+--------------+\n",
      "|12/1/2010 8:26|\n",
      "|12/1/2010 8:26|\n",
      "|12/1/2010 8:26|\n",
      "|12/1/2010 8:26|\n",
      "|12/1/2010 8:26|\n",
      "|12/1/2010 8:26|\n",
      "|12/1/2010 8:26|\n",
      "|12/1/2010 8:28|\n",
      "|12/1/2010 8:28|\n",
      "|12/1/2010 8:34|\n",
      "+--------------+\n",
      "only showing top 10 rows\n",
      "\n"
     ]
    }
   ],
   "source": [
    "df_clean.select(\"InvoiceDate\").show(10,truncate=False)"
   ]
  },
  {
   "cell_type": "markdown",
   "id": "3f5d5542-e2bc-4f49-a2ec-4114818f62ac",
   "metadata": {},
   "source": [
    "### Feature Engineering"
   ]
  },
  {
   "cell_type": "code",
   "execution_count": 11,
   "id": "fa8fbd02-3579-4461-bcf4-4a06f11bf763",
   "metadata": {},
   "outputs": [],
   "source": [
    "from pyspark.sql.functions import to_timestamp\n",
    "\n",
    "#Convert InoviceDate\n",
    "df_clean=df_clean.withColumn(\"InvoiceDate\",to_timestamp(\"InvoiceDate\",\"M/d/yyyy H:mm\"))"
   ]
  },
  {
   "cell_type": "code",
   "execution_count": 12,
   "id": "dc020183-7cbf-40c1-bc1e-76375dedee97",
   "metadata": {},
   "outputs": [
    {
     "name": "stdout",
     "output_type": "stream",
     "text": [
      "+---------+---------+--------------------+--------+-------------------+---------+----------+--------------+\n",
      "|InvoiceNo|StockCode|         Description|Quantity|        InvoiceDate|UnitPrice|CustomerID|       Country|\n",
      "+---------+---------+--------------------+--------+-------------------+---------+----------+--------------+\n",
      "|   536365|   85123A|WHITE HANGING HEA...|       6|2010-12-01 08:26:00|     2.55|     17850|United Kingdom|\n",
      "|   536365|    71053| WHITE METAL LANTERN|       6|2010-12-01 08:26:00|     3.39|     17850|United Kingdom|\n",
      "+---------+---------+--------------------+--------+-------------------+---------+----------+--------------+\n",
      "only showing top 2 rows\n",
      "\n"
     ]
    }
   ],
   "source": [
    "df_clean.show(2)"
   ]
  },
  {
   "cell_type": "code",
   "execution_count": 13,
   "id": "96cf880e-5f0a-4775-88b5-5a9e7095d25c",
   "metadata": {},
   "outputs": [
    {
     "name": "stdout",
     "output_type": "stream",
     "text": [
      "+-------------------+\n",
      "|InvoiceDate        |\n",
      "+-------------------+\n",
      "|2010-12-01 08:26:00|\n",
      "|2010-12-01 08:26:00|\n",
      "|2010-12-01 08:26:00|\n",
      "|2010-12-01 08:26:00|\n",
      "|2010-12-01 08:26:00|\n",
      "+-------------------+\n",
      "only showing top 5 rows\n",
      "\n"
     ]
    }
   ],
   "source": [
    "df_clean.select(\"InvoiceDate\").show(5, False)\n"
   ]
  },
  {
   "cell_type": "code",
   "execution_count": 14,
   "id": "9846ed29-9038-463c-8a6a-6967199663e2",
   "metadata": {},
   "outputs": [],
   "source": [
    "from pyspark.sql.functions import col\n",
    "#Add TotalPrice column\n",
    "df_clean = df_clean.withColumn(\"TotalPrice\",col(\"Quantity\")*col(\"UnitPrice\"))"
   ]
  },
  {
   "cell_type": "code",
   "execution_count": 15,
   "id": "6a343b48-20c6-46f3-abe6-d556a739dbe9",
   "metadata": {},
   "outputs": [
    {
     "name": "stdout",
     "output_type": "stream",
     "text": [
      "+---------+---------+--------------------+--------+-------------------+---------+----------+--------------+------------------+\n",
      "|InvoiceNo|StockCode|         Description|Quantity|        InvoiceDate|UnitPrice|CustomerID|       Country|        TotalPrice|\n",
      "+---------+---------+--------------------+--------+-------------------+---------+----------+--------------+------------------+\n",
      "|   536365|   85123A|WHITE HANGING HEA...|       6|2010-12-01 08:26:00|     2.55|     17850|United Kingdom|15.299999999999999|\n",
      "|   536365|    71053| WHITE METAL LANTERN|       6|2010-12-01 08:26:00|     3.39|     17850|United Kingdom|             20.34|\n",
      "|   536365|   84406B|CREAM CUPID HEART...|       8|2010-12-01 08:26:00|     2.75|     17850|United Kingdom|              22.0|\n",
      "|   536365|   84029G|KNITTED UNION FLA...|       6|2010-12-01 08:26:00|     3.39|     17850|United Kingdom|             20.34|\n",
      "|   536365|   84029E|RED WOOLLY HOTTIE...|       6|2010-12-01 08:26:00|     3.39|     17850|United Kingdom|             20.34|\n",
      "|   536365|    22752|SET 7 BABUSHKA NE...|       2|2010-12-01 08:26:00|     7.65|     17850|United Kingdom|              15.3|\n",
      "|   536365|    21730|GLASS STAR FROSTE...|       6|2010-12-01 08:26:00|     4.25|     17850|United Kingdom|              25.5|\n",
      "|   536366|    22633|HAND WARMER UNION...|       6|2010-12-01 08:28:00|     1.85|     17850|United Kingdom|11.100000000000001|\n",
      "|   536366|    22632|HAND WARMER RED P...|       6|2010-12-01 08:28:00|     1.85|     17850|United Kingdom|11.100000000000001|\n",
      "|   536367|    84879|ASSORTED COLOUR B...|      32|2010-12-01 08:34:00|     1.69|     13047|United Kingdom|             54.08|\n",
      "|   536367|    22745|POPPY'S PLAYHOUSE...|       6|2010-12-01 08:34:00|      2.1|     13047|United Kingdom|12.600000000000001|\n",
      "|   536367|    22748|POPPY'S PLAYHOUSE...|       6|2010-12-01 08:34:00|      2.1|     13047|United Kingdom|12.600000000000001|\n",
      "|   536367|    22749|FELTCRAFT PRINCES...|       8|2010-12-01 08:34:00|     3.75|     13047|United Kingdom|              30.0|\n",
      "|   536367|    22310|IVORY KNITTED MUG...|       6|2010-12-01 08:34:00|     1.65|     13047|United Kingdom| 9.899999999999999|\n",
      "|   536367|    84969|BOX OF 6 ASSORTED...|       6|2010-12-01 08:34:00|     4.25|     13047|United Kingdom|              25.5|\n",
      "|   536367|    22623|BOX OF VINTAGE JI...|       3|2010-12-01 08:34:00|     4.95|     13047|United Kingdom|14.850000000000001|\n",
      "|   536367|    22622|BOX OF VINTAGE AL...|       2|2010-12-01 08:34:00|     9.95|     13047|United Kingdom|              19.9|\n",
      "|   536367|    21754|HOME BUILDING BLO...|       3|2010-12-01 08:34:00|     5.95|     13047|United Kingdom|             17.85|\n",
      "|   536367|    21755|LOVE BUILDING BLO...|       3|2010-12-01 08:34:00|     5.95|     13047|United Kingdom|             17.85|\n",
      "|   536367|    21777|RECIPE BOX WITH M...|       4|2010-12-01 08:34:00|     7.95|     13047|United Kingdom|              31.8|\n",
      "+---------+---------+--------------------+--------+-------------------+---------+----------+--------------+------------------+\n",
      "only showing top 20 rows\n",
      "\n"
     ]
    }
   ],
   "source": [
    "df_clean.show()"
   ]
  },
  {
   "cell_type": "code",
   "execution_count": 16,
   "id": "5626dd0a-6ed2-43d1-a3a7-e67cde8de1fd",
   "metadata": {},
   "outputs": [],
   "source": [
    "from pyspark.sql.functions import month,dayofweek\n",
    "#Extract month and weekday\n",
    "df_clean=df_clean.withColumn(\"Month\",month(\"InvoiceDate\"))\n",
    "df_clean=df_clean.withColumn(\"Weekday\",dayofweek(\"InvoiceDate\"))"
   ]
  },
  {
   "cell_type": "code",
   "execution_count": 17,
   "id": "fda570c6-5484-42c1-8ae0-ab899005b4e4",
   "metadata": {},
   "outputs": [
    {
     "name": "stdout",
     "output_type": "stream",
     "text": [
      "+---------+---------+--------------------+--------+-------------------+---------+----------+--------------+------------------+-----+-------+\n",
      "|InvoiceNo|StockCode|         Description|Quantity|        InvoiceDate|UnitPrice|CustomerID|       Country|        TotalPrice|Month|Weekday|\n",
      "+---------+---------+--------------------+--------+-------------------+---------+----------+--------------+------------------+-----+-------+\n",
      "|   536365|   85123A|WHITE HANGING HEA...|       6|2010-12-01 08:26:00|     2.55|     17850|United Kingdom|15.299999999999999|   12|      4|\n",
      "|   536365|    71053| WHITE METAL LANTERN|       6|2010-12-01 08:26:00|     3.39|     17850|United Kingdom|             20.34|   12|      4|\n",
      "|   536365|   84406B|CREAM CUPID HEART...|       8|2010-12-01 08:26:00|     2.75|     17850|United Kingdom|              22.0|   12|      4|\n",
      "|   536365|   84029G|KNITTED UNION FLA...|       6|2010-12-01 08:26:00|     3.39|     17850|United Kingdom|             20.34|   12|      4|\n",
      "|   536365|   84029E|RED WOOLLY HOTTIE...|       6|2010-12-01 08:26:00|     3.39|     17850|United Kingdom|             20.34|   12|      4|\n",
      "+---------+---------+--------------------+--------+-------------------+---------+----------+--------------+------------------+-----+-------+\n",
      "only showing top 5 rows\n",
      "\n"
     ]
    }
   ],
   "source": [
    "df_clean.show(5)"
   ]
  },
  {
   "cell_type": "code",
   "execution_count": 18,
   "id": "3ee1043e-910d-498b-9592-814d8e499d93",
   "metadata": {},
   "outputs": [
    {
     "name": "stdout",
     "output_type": "stream",
     "text": [
      "+---------+--------+---------+------------------+-----+-------+\n",
      "|InvoiceNo|Quantity|UnitPrice|        TotalPrice|Month|Weekday|\n",
      "+---------+--------+---------+------------------+-----+-------+\n",
      "|   536365|       6|     2.55|15.299999999999999|   12|      4|\n",
      "|   536365|       6|     3.39|             20.34|   12|      4|\n",
      "|   536365|       8|     2.75|              22.0|   12|      4|\n",
      "|   536365|       6|     3.39|             20.34|   12|      4|\n",
      "|   536365|       6|     3.39|             20.34|   12|      4|\n",
      "+---------+--------+---------+------------------+-----+-------+\n",
      "only showing top 5 rows\n",
      "\n"
     ]
    }
   ],
   "source": [
    "df_clean.select(\"InvoiceNo\",\"Quantity\",\"UnitPrice\",\"TotalPrice\",\"Month\",\"Weekday\").show(5)"
   ]
  },
  {
   "cell_type": "markdown",
   "id": "50f9ed2e-1edd-4866-b9ab-5a8a6122b2a3",
   "metadata": {},
   "source": [
    "### Aggregations - Prdouct & Country Analysis"
   ]
  },
  {
   "cell_type": "code",
   "execution_count": 19,
   "id": "be69847c-7bae-4420-9eb8-8acf09bb0ed3",
   "metadata": {},
   "outputs": [
    {
     "name": "stdout",
     "output_type": "stream",
     "text": [
      "+--------------------+------------------+\n",
      "|         Description|           Revenue|\n",
      "+--------------------+------------------+\n",
      "|PAPER CRAFT , LIT...|          168469.6|\n",
      "|REGENCY CAKESTAND...| 142592.9500000001|\n",
      "|WHITE HANGING HEA...|100448.15000000013|\n",
      "|JUMBO BAG RED RET...| 85220.77999999987|\n",
      "|MEDIUM CERAMIC TO...| 81416.73000000001|\n",
      "|             POSTAGE| 77803.95999999999|\n",
      "|       PARTY BUNTING| 68844.32999999994|\n",
      "|ASSORTED COLOUR B...| 56580.34000000013|\n",
      "|              Manual|          53779.93|\n",
      "|  RABBIT NIGHT LIGHT|51346.199999999866|\n",
      "+--------------------+------------------+\n",
      "only showing top 10 rows\n",
      "\n"
     ]
    }
   ],
   "source": [
    "#Top 10 products by revenue\n",
    "from pyspark.sql.functions import desc\n",
    "\n",
    "df_clean.groupBy(\"Description\") \\\n",
    "    .agg({\"TotalPrice\": \"sum\"}) \\\n",
    "    .withColumnRenamed(\"sum(TotalPrice)\", \"Revenue\") \\\n",
    "    .orderBy(col(\"Revenue\").desc()) \\\n",
    "    .show(10)"
   ]
  },
  {
   "cell_type": "code",
   "execution_count": 20,
   "id": "acd918ec-23c5-4a0d-b326-37add69db48d",
   "metadata": {},
   "outputs": [
    {
     "name": "stdout",
     "output_type": "stream",
     "text": [
      "+--------------+-----+\n",
      "|       Country|count|\n",
      "+--------------+-----+\n",
      "|United Kingdom| 3920|\n",
      "|       Germany|   94|\n",
      "|        France|   87|\n",
      "|         Spain|   30|\n",
      "|       Belgium|   25|\n",
      "+--------------+-----+\n",
      "only showing top 5 rows\n",
      "\n"
     ]
    }
   ],
   "source": [
    "#Top 5 countries by number of customers\n",
    "df_clean.select(\"CustomerID\",\"Country\").distinct()\\\n",
    "    .groupBy(\"Country\")\\\n",
    "    .count()\\\n",
    "    .orderBy(col(\"count\").desc())\\\n",
    "    .show(5)"
   ]
  },
  {
   "cell_type": "markdown",
   "id": "0b05b951-f54e-4762-8620-c78cb8494e4e",
   "metadata": {},
   "source": [
    "### Joins - Customer Summary + Product Summary"
   ]
  },
  {
   "cell_type": "code",
   "execution_count": 21,
   "id": "2135b535-dbfd-490a-8430-7b1c7264cb8f",
   "metadata": {},
   "outputs": [
    {
     "name": "stdout",
     "output_type": "stream",
     "text": [
      "+----------+--------------+-----------------+-----------+---------+---------+--------------------+--------+-------------------+---------+--------------+----------+-----+-------+\n",
      "|CustomerID|       Country|       TotalSpend|TotalOrders|InvoiceNo|StockCode|         Description|Quantity|        InvoiceDate|UnitPrice|       Country|TotalPrice|Month|Weekday|\n",
      "+----------+--------------+-----------------+-----------+---------+---------+--------------------+--------+-------------------+---------+--------------+----------+-----+-------+\n",
      "|     17420|United Kingdom|598.8299999999999|         30|   536385|    22783|SET 3 WICKER OVAL...|       1|2010-12-01 09:56:00|    19.95|United Kingdom|     19.95|   12|      4|\n",
      "|     17420|United Kingdom|598.8299999999999|         30|   536385|    22961|JAM MAKING SET PR...|      12|2010-12-01 09:56:00|     1.45|United Kingdom|      17.4|   12|      4|\n",
      "|     17420|United Kingdom|598.8299999999999|         30|   536385|    22960|JAM MAKING SET WI...|       6|2010-12-01 09:56:00|     4.25|United Kingdom|      25.5|   12|      4|\n",
      "|     17420|United Kingdom|598.8299999999999|         30|   536385|    22663|JUMBO BAG DOLLY G...|      10|2010-12-01 09:56:00|     1.95|United Kingdom|      19.5|   12|      4|\n",
      "|     17420|United Kingdom|598.8299999999999|         30|   536385|   85049A|TRADITIONAL CHRIS...|      12|2010-12-01 09:56:00|     1.25|United Kingdom|      15.0|   12|      4|\n",
      "+----------+--------------+-----------------+-----------+---------+---------+--------------------+--------+-------------------+---------+--------------+----------+-----+-------+\n",
      "only showing top 5 rows\n",
      "\n"
     ]
    }
   ],
   "source": [
    "# Customer summary\n",
    "customer_df=df_clean.groupBy(\"CustomerID\",\"Country\")\\\n",
    "    .agg({\"TotalPrice\":\"sum\",\"InvoiceNo\":\"count\"})\\\n",
    "    .withColumnRenamed(\"sum(TotalPrice)\",\"TotalSpend\")\\\n",
    "    .withColumnRenamed(\"count(InvoiceNo)\",\"TotalOrders\")\n",
    "\n",
    "#Product summary\n",
    "product_df=df_clean.groupBy(\"StockCode\",\"Description\")\\\n",
    "    .agg({\"Quantity\":\"avg\",\"TotalPrice\":\"sum\"})\\\n",
    "    .withColumnRenamed(\"avg(Quantity)\",\"Avgqty\")\\\n",
    "    .withColumnRenamed(\"sum(TotalPrice)\",\"ProductRevenue\")\n",
    "\n",
    "#join\n",
    "\n",
    "joined_df=customer_df.join(df_clean,on=\"CustomerID\",how=\"inner\")\n",
    "joined_df.show(5)"
   ]
  },
  {
   "cell_type": "markdown",
   "id": "3eacd822-8c6c-436b-965f-bf17e7b5c8a4",
   "metadata": {},
   "source": [
    "### Window Funtions - Rank Top Customers in Each Country"
   ]
  },
  {
   "cell_type": "code",
   "execution_count": 22,
   "id": "a8941361-3d9b-46a9-9ce5-e6721cf0a598",
   "metadata": {},
   "outputs": [
    {
     "name": "stdout",
     "output_type": "stream",
     "text": [
      "+----------+---------------+------------------+-----------+----+\n",
      "|CustomerID|        Country|        TotalSpend|TotalOrders|Rank|\n",
      "+----------+---------------+------------------+-----------+----+\n",
      "|     12415|      Australia|124914.53000000003|        714|   1|\n",
      "|     12431|      Australia|           5514.67|        181|   2|\n",
      "|     12388|      Australia|2780.6600000000003|        100|   3|\n",
      "|     12360|        Austria|           2662.06|        129|   1|\n",
      "|     12865|        Austria|1568.2299999999996|         95|   2|\n",
      "|     12818|        Austria|           1542.08|         14|   3|\n",
      "|     12355|        Bahrain|             459.4|         13|   1|\n",
      "|     12353|        Bahrain|              89.0|          4|   2|\n",
      "|     12362|        Belgium|5226.2300000000005|        266|   1|\n",
      "|     12449|        Belgium|           4067.29|        191|   2|\n",
      "|     12417|        Belgium|            3212.8|        169|   3|\n",
      "|     12769|         Brazil|1143.6000000000001|         32|   1|\n",
      "|     17444|         Canada|2940.0400000000013|        135|   1|\n",
      "|     17443|         Canada|            534.24|          1|   2|\n",
      "|     15388|         Canada|            140.54|         10|   3|\n",
      "|     14936|Channel Islands|           8137.02|        364|   1|\n",
      "|     14930|Channel Islands|2372.8599999999997|        128|   2|\n",
      "|     14934|Channel Islands|1890.9400000000005|         87|   3|\n",
      "|     12359|         Cyprus|           6372.58|        248|   1|\n",
      "|     12370|         Cyprus|           3268.49|        159|   2|\n",
      "+----------+---------------+------------------+-----------+----+\n",
      "only showing top 20 rows\n",
      "\n"
     ]
    }
   ],
   "source": [
    "from pyspark.sql.window import Window\n",
    "from pyspark.sql.functions import rank\n",
    "\n",
    "windowSpec = Window.partitionBy(\"Country\").orderBy(col(\"TotalSpend\").desc())\n",
    "\n",
    "ranked_df = customer_df.withColumn(\"Rank\",rank().over(windowSpec))\n",
    "\n",
    "ranked_df.filter(\"Rank<=3\").orderBy(\"Country\",\"Rank\").show()"
   ]
  },
  {
   "cell_type": "markdown",
   "id": "ac5dc206-da3f-46b9-b4ab-0bebe802926e",
   "metadata": {},
   "source": [
    "### Rollup & Cube"
   ]
  },
  {
   "cell_type": "code",
   "execution_count": 24,
   "id": "0ca32ce4-7a11-45f4-b5b6-360dcc0c29bd",
   "metadata": {},
   "outputs": [
    {
     "name": "stdout",
     "output_type": "stream",
     "text": [
      "+---------+-----+------------------+\n",
      "|  Country|Month|           Revenue|\n",
      "+---------+-----+------------------+\n",
      "|     NULL| NULL| 8911407.903999643|\n",
      "|Australia| NULL|         138521.31|\n",
      "|Australia|    1| 9017.709999999995|\n",
      "|Australia|    2|14695.419999999996|\n",
      "|Australia|    3|17223.990000000013|\n",
      "|Australia|    4| 771.6000000000001|\n",
      "|Australia|    5|13638.410000000005|\n",
      "|Australia|    6|25187.769999999997|\n",
      "|Australia|    7|  4964.37999999999|\n",
      "|Australia|    8|22489.199999999993|\n",
      "|Australia|    9|5106.7300000000005|\n",
      "|Australia|   10|          17150.53|\n",
      "|Australia|   11| 7242.719999999999|\n",
      "|Australia|   12|           1032.85|\n",
      "|  Austria| NULL|          10198.68|\n",
      "|  Austria|    2| 518.3600000000001|\n",
      "|  Austria|    3|1708.1200000000001|\n",
      "|  Austria|    4| 680.7800000000002|\n",
      "|  Austria|    5|1249.4299999999998|\n",
      "|  Austria|    7|1191.9499999999998|\n",
      "+---------+-----+------------------+\n",
      "only showing top 20 rows\n",
      "\n"
     ]
    }
   ],
   "source": [
    "#Rollup: Revenue by Country & Month\n",
    "df_clean.rollup(\"Country\",\"Month\")\\\n",
    "    .agg({\"TotalPrice\":\"sum\"})\\\n",
    "    .withColumnRenamed(\"sum(TotalPrice)\",\"Revenue\")\\\n",
    "    .orderBy(\"Country\",\"Month\")\\\n",
    "    .show(20)"
   ]
  },
  {
   "cell_type": "code",
   "execution_count": 26,
   "id": "f2464288-68e4-42b2-a50b-381fbf6e97c7",
   "metadata": {},
   "outputs": [
    {
     "name": "stdout",
     "output_type": "stream",
     "text": [
      "+---------+-------+------------------+\n",
      "|  Country|Weekday|           Revenue|\n",
      "+---------+-------+------------------+\n",
      "|     NULL|   NULL| 8911407.903999643|\n",
      "|     NULL|      1| 792514.2209999886|\n",
      "|     NULL|      2|1367146.4109999998|\n",
      "|     NULL|      3|1700634.6310000008|\n",
      "|     NULL|      4|1588336.1700000032|\n",
      "|     NULL|      5| 1976859.070000013|\n",
      "|     NULL|      6|1485917.4009999963|\n",
      "|Australia|   NULL|         138521.31|\n",
      "|Australia|      1|1743.9299999999998|\n",
      "|Australia|      2|1392.6399999999999|\n",
      "|Australia|      3|32526.090000000004|\n",
      "|Australia|      4| 45057.23000000001|\n",
      "|Australia|      5| 53555.98999999999|\n",
      "|Australia|      6|           4245.43|\n",
      "|  Austria|   NULL|          10198.68|\n",
      "|  Austria|      1| 586.8499999999999|\n",
      "|  Austria|      2|2807.8899999999994|\n",
      "|  Austria|      3|2574.0199999999995|\n",
      "|  Austria|      4|1695.8400000000001|\n",
      "|  Austria|      5|           1556.33|\n",
      "+---------+-------+------------------+\n",
      "only showing top 20 rows\n",
      "\n"
     ]
    }
   ],
   "source": [
    "# Cube: Revenue by Country & Weekday\n",
    "\n",
    "df_clean.cube(\"Country\",\"Weekday\")\\\n",
    "    .agg({\"TotalPrice\":\"sum\"})\\\n",
    "    .withColumnRenamed(\"sum(TotalPrice)\",\"Revenue\")\\\n",
    "    .orderBy(\"Country\",\"Weekday\")\\\n",
    "    .show(20)"
   ]
  },
  {
   "cell_type": "markdown",
   "id": "08522189-7e78-441d-aafa-821e815e2dea",
   "metadata": {},
   "source": [
    "### Conclusion"
   ]
  },
  {
   "cell_type": "markdown",
   "id": "527932f4-e47b-499f-b083-4b950e61859e",
   "metadata": {},
   "source": [
    "- Spark is powerful for analyzing large transactional datasets.\n",
    "- We explored data cleaning, transformations, joins, aggregations, and window functions.\n",
    "- This dataset can be further used for RFM Analysis or market basket analysis."
   ]
  },
  {
   "cell_type": "code",
   "execution_count": null,
   "id": "25968e2b-77d1-46e2-a383-85393799285d",
   "metadata": {},
   "outputs": [],
   "source": []
  }
 ],
 "metadata": {
  "kernelspec": {
   "display_name": "Python 3 (ipykernel)",
   "language": "python",
   "name": "python3"
  },
  "language_info": {
   "codemirror_mode": {
    "name": "ipython",
    "version": 3
   },
   "file_extension": ".py",
   "mimetype": "text/x-python",
   "name": "python",
   "nbconvert_exporter": "python",
   "pygments_lexer": "ipython3",
   "version": "3.13.5"
  }
 },
 "nbformat": 4,
 "nbformat_minor": 5
}
