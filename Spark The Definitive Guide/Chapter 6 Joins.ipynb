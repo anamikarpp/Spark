{
  "nbformat": 4,
  "nbformat_minor": 0,
  "metadata": {
    "colab": {
      "provenance": []
    },
    "kernelspec": {
      "name": "python3",
      "display_name": "Python 3"
    },
    "language_info": {
      "name": "python"
    }
  },
  "cells": [
    {
      "cell_type": "code",
      "source": [
        "!apt-get update\n",
        "!apt-get install openjdk-8-jdk-headless -qq > /dev/null\n",
        "\n",
        "!wget -q https://dlcdn.apache.org/spark/spark-3.5.1/spark-3.5.1-bin-hadoop3.tgz\n",
        "!tar -xzf spark-3.5.1-bin-hadoop3.tgz\n",
        "\n",
        "!pip install -q pyspark==3.5.1\n"
      ],
      "metadata": {
        "id": "HIoFVowM4Ztr",
        "colab": {
          "base_uri": "https://localhost:8080/"
        },
        "outputId": "cbf38424-6040-4959-bf3f-a98b8bdca271"
      },
      "execution_count": null,
      "outputs": [
        {
          "output_type": "stream",
          "name": "stdout",
          "text": [
            "\r0% [Working]\r            \rHit:1 https://developer.download.nvidia.com/compute/cuda/repos/ubuntu2204/x86_64  InRelease\n",
            "\r0% [Waiting for headers] [Waiting for headers] [Waiting for headers] [Connected\r                                                                               \rGet:2 https://cloud.r-project.org/bin/linux/ubuntu jammy-cran40/ InRelease [3,632 B]\n",
            "\r0% [Waiting for headers] [Waiting for headers] [Connected to r2u.stat.illinois.\r                                                                               \rHit:3 http://archive.ubuntu.com/ubuntu jammy InRelease\n",
            "Get:4 http://security.ubuntu.com/ubuntu jammy-security InRelease [129 kB]\n",
            "Get:5 http://archive.ubuntu.com/ubuntu jammy-updates InRelease [128 kB]\n",
            "Get:6 https://r2u.stat.illinois.edu/ubuntu jammy InRelease [6,555 B]\n",
            "Get:7 http://archive.ubuntu.com/ubuntu jammy-backports InRelease [127 kB]\n",
            "Get:8 https://r2u.stat.illinois.edu/ubuntu jammy/main all Packages [9,087 kB]\n",
            "Get:9 http://security.ubuntu.com/ubuntu jammy-security/main amd64 Packages [3,103 kB]\n",
            "Get:10 https://ppa.launchpadcontent.net/deadsnakes/ppa/ubuntu jammy InRelease [18.1 kB]\n",
            "Get:11 http://archive.ubuntu.com/ubuntu jammy-updates/main amd64 Packages [3,415 kB]\n",
            "Hit:12 https://ppa.launchpadcontent.net/graphics-drivers/ppa/ubuntu jammy InRelease\n",
            "Get:13 http://security.ubuntu.com/ubuntu jammy-security/restricted amd64 Packages [4,795 kB]\n",
            "Hit:14 https://ppa.launchpadcontent.net/ubuntugis/ppa/ubuntu jammy InRelease\n",
            "Get:15 http://archive.ubuntu.com/ubuntu jammy-updates/universe amd64 Packages [1,569 kB]\n",
            "Get:16 http://security.ubuntu.com/ubuntu jammy-security/universe amd64 Packages [1,266 kB]\n",
            "Get:17 http://archive.ubuntu.com/ubuntu jammy-backports/main amd64 Packages [83.2 kB]\n",
            "Get:18 http://archive.ubuntu.com/ubuntu jammy-backports/universe amd64 Packages [35.2 kB]\n",
            "Get:19 https://ppa.launchpadcontent.net/deadsnakes/ppa/ubuntu jammy/main amd64 Packages [32.9 kB]\n",
            "Get:20 https://r2u.stat.illinois.edu/ubuntu jammy/main amd64 Packages [2,758 kB]\n",
            "Fetched 26.6 MB in 3s (8,996 kB/s)\n",
            "Reading package lists... Done\n",
            "W: Skipping acquire of configured file 'main/source/Sources' as repository 'https://r2u.stat.illinois.edu/ubuntu jammy InRelease' does not seem to provide it (sources.list entry misspelt?)\n",
            "tar (child): spark-3.5.1-bin-hadoop3.tgz: Cannot open: No such file or directory\n",
            "tar (child): Error is not recoverable: exiting now\n",
            "tar: Child returned status 2\n",
            "tar: Error is not recoverable: exiting now\n"
          ]
        }
      ]
    },
    {
      "cell_type": "code",
      "source": [
        "# Download Spark 3.5.1 from Apache Archive:\n",
        "!wget https://archive.apache.org/dist/spark/spark-3.5.1/spark-3.5.1-bin-hadoop3.tgz\n",
        "\n",
        "# Extract Spark:\n",
        "!tar -xzf spark-3.5.1-bin-hadoop3.tgz\n",
        "\n",
        "# Install PySpark:\n",
        "!pip install -q pyspark==3.5.1"
      ],
      "metadata": {
        "colab": {
          "base_uri": "https://localhost:8080/"
        },
        "id": "p6JGkbTD6hiN",
        "outputId": "2e3f4d85-9292-49c7-e9cf-fb7a3d7bec11"
      },
      "execution_count": null,
      "outputs": [
        {
          "output_type": "stream",
          "name": "stdout",
          "text": [
            "--2025-07-10 02:13:20--  https://archive.apache.org/dist/spark/spark-3.5.1/spark-3.5.1-bin-hadoop3.tgz\n",
            "Resolving archive.apache.org (archive.apache.org)... 65.108.204.189, 2a01:4f9:1a:a084::2\n",
            "Connecting to archive.apache.org (archive.apache.org)|65.108.204.189|:443... connected.\n",
            "HTTP request sent, awaiting response... 200 OK\n",
            "Length: 400446614 (382M) [application/x-gzip]\n",
            "Saving to: ‘spark-3.5.1-bin-hadoop3.tgz’\n",
            "\n",
            "spark-3.5.1-bin-had 100%[===================>] 381.90M  18.8MB/s    in 23s     \n",
            "\n",
            "2025-07-10 02:13:44 (16.3 MB/s) - ‘spark-3.5.1-bin-hadoop3.tgz’ saved [400446614/400446614]\n",
            "\n"
          ]
        }
      ]
    },
    {
      "cell_type": "code",
      "source": [
        "import os\n",
        "os.environ[\"JAVA_HOME\"] = \"/usr/lib/jvm/java-8-openjdk-amd64\"\n",
        "os.environ[\"SPARK_HOME\"] = \"/content/spark-3.5.1-bin-hadoop3\"\n",
        "\n",
        "from pyspark.sql import SparkSession\n",
        "spark = SparkSession.builder.master(\"local[*]\").appName(\"SparkColab\").getOrCreate()\n",
        "print(\"✅ Spark is ready!\")\n"
      ],
      "metadata": {
        "colab": {
          "base_uri": "https://localhost:8080/"
        },
        "id": "Szx3PGPe6Nme",
        "outputId": "0c641f40-a46c-4250-92e2-3a3d9eefc1cd"
      },
      "execution_count": null,
      "outputs": [
        {
          "output_type": "stream",
          "name": "stdout",
          "text": [
            "✅ Spark is ready!\n"
          ]
        }
      ]
    },
    {
      "cell_type": "code",
      "source": [
        "person          = spark.createDataFrame([\n",
        "    (0, \"Bill Chambers\", 0, [100]),\n",
        "    (1, \"Matei Zaharia\", 1, [500, 250, 100]),\n",
        "    (2, \"Michael Armbrust\", 1, [250, 100])\n",
        "     ]).toDF(\"id\", \"name\", \"graduate_program\", \"spark_status\")\n",
        "\n",
        "graduateProgram = spark.createDataFrame([\n",
        "    (0, \"Masters\", \"School of Information\", \"UC Berkeley\"),\n",
        "    (2, \"Masters\", \"EECS\", \"UC Berkeley\"),\n",
        "    (1, \"Ph.D.\", \"EECS\", \"UC Berkeley\")\n",
        "     ]).toDF(\"id\", \"degree\", \"department\", \"school\")\n",
        "\n",
        "sparkStatus     = spark.createDataFrame([\n",
        "    (500, \"Vice President\"),\n",
        "    (250, \"PMC Member\"),\n",
        "    (100, \"Contributor\")\n",
        "     ]).toDF(\"id\", \"status\")"
      ],
      "metadata": {
        "id": "41bQsrnY7Y--"
      },
      "execution_count": null,
      "outputs": []
    },
    {
      "cell_type": "code",
      "source": [
        "person.createOrReplaceTempView(\"person\")\n",
        "graduateProgram.createOrReplaceTempView(\"graduateProgram\")\n",
        "sparkStatus.createOrReplaceTempView(\"sparkStatus\")"
      ],
      "metadata": {
        "id": "QPht9poj7kUu"
      },
      "execution_count": null,
      "outputs": []
    },
    {
      "cell_type": "markdown",
      "source": [
        "### Inner Joins"
      ],
      "metadata": {
        "id": "ulTe2oKkJ6kN"
      }
    },
    {
      "cell_type": "code",
      "source": [
        "joinExpression = person[\"graduate_program\"]==graduateProgram[\"id\"]"
      ],
      "metadata": {
        "id": "lT_onAQe7qHD"
      },
      "execution_count": null,
      "outputs": []
    },
    {
      "cell_type": "code",
      "source": [
        "wrongJoinExpressioin=person[\"name\"] == graduateProgram[\"school\"]"
      ],
      "metadata": {
        "id": "Ma3w2f7iJxr8"
      },
      "execution_count": null,
      "outputs": []
    },
    {
      "cell_type": "code",
      "source": [
        "person.join(graduateProgram,joinExpression).show()"
      ],
      "metadata": {
        "colab": {
          "base_uri": "https://localhost:8080/"
        },
        "id": "3tpL0M0x70Wo",
        "outputId": "7935ef60-5fbc-44ea-f851-f88524f046e0"
      },
      "execution_count": null,
      "outputs": [
        {
          "output_type": "stream",
          "name": "stdout",
          "text": [
            "+---+----------------+----------------+---------------+---+-------+--------------------+-----------+\n",
            "| id|            name|graduate_program|   spark_status| id| degree|          department|     school|\n",
            "+---+----------------+----------------+---------------+---+-------+--------------------+-----------+\n",
            "|  0|   Bill Chambers|               0|          [100]|  0|Masters|School of Informa...|UC Berkeley|\n",
            "|  1|   Matei Zaharia|               1|[500, 250, 100]|  1|  Ph.D.|                EECS|UC Berkeley|\n",
            "|  2|Michael Armbrust|               1|     [250, 100]|  1|  Ph.D.|                EECS|UC Berkeley|\n",
            "+---+----------------+----------------+---------------+---+-------+--------------------+-----------+\n",
            "\n"
          ]
        }
      ]
    },
    {
      "cell_type": "code",
      "source": [
        "joinType=\"inner\"\n",
        "person.join(graduateProgram,joinExpression,joinType).show()"
      ],
      "metadata": {
        "colab": {
          "base_uri": "https://localhost:8080/"
        },
        "id": "EuL3lO5EKjtn",
        "outputId": "3f510b73-7839-4365-ad8f-ab17af3ff021"
      },
      "execution_count": null,
      "outputs": [
        {
          "output_type": "stream",
          "name": "stdout",
          "text": [
            "+---+----------------+----------------+---------------+---+-------+--------------------+-----------+\n",
            "| id|            name|graduate_program|   spark_status| id| degree|          department|     school|\n",
            "+---+----------------+----------------+---------------+---+-------+--------------------+-----------+\n",
            "|  0|   Bill Chambers|               0|          [100]|  0|Masters|School of Informa...|UC Berkeley|\n",
            "|  1|   Matei Zaharia|               1|[500, 250, 100]|  1|  Ph.D.|                EECS|UC Berkeley|\n",
            "|  2|Michael Armbrust|               1|     [250, 100]|  1|  Ph.D.|                EECS|UC Berkeley|\n",
            "+---+----------------+----------------+---------------+---+-------+--------------------+-----------+\n",
            "\n"
          ]
        }
      ]
    },
    {
      "cell_type": "markdown",
      "source": [
        "### Outer Joins"
      ],
      "metadata": {
        "id": "wqDvk2vCLD2h"
      }
    },
    {
      "cell_type": "code",
      "source": [
        "joinType=\"outer\"\n",
        "person.join(graduateProgram,joinExpression,joinType).show()"
      ],
      "metadata": {
        "colab": {
          "base_uri": "https://localhost:8080/"
        },
        "id": "_eDGW8B7Kx4p",
        "outputId": "78dc7e98-5d6e-4772-c59a-d1314cd0c21c"
      },
      "execution_count": null,
      "outputs": [
        {
          "output_type": "stream",
          "name": "stdout",
          "text": [
            "+----+----------------+----------------+---------------+---+-------+--------------------+-----------+\n",
            "|  id|            name|graduate_program|   spark_status| id| degree|          department|     school|\n",
            "+----+----------------+----------------+---------------+---+-------+--------------------+-----------+\n",
            "|   0|   Bill Chambers|               0|          [100]|  0|Masters|School of Informa...|UC Berkeley|\n",
            "|   1|   Matei Zaharia|               1|[500, 250, 100]|  1|  Ph.D.|                EECS|UC Berkeley|\n",
            "|   2|Michael Armbrust|               1|     [250, 100]|  1|  Ph.D.|                EECS|UC Berkeley|\n",
            "|NULL|            NULL|            NULL|           NULL|  2|Masters|                EECS|UC Berkeley|\n",
            "+----+----------------+----------------+---------------+---+-------+--------------------+-----------+\n",
            "\n"
          ]
        }
      ]
    },
    {
      "cell_type": "markdown",
      "source": [
        "### Left Outer Joins"
      ],
      "metadata": {
        "id": "0c_q6s8gLii7"
      }
    },
    {
      "cell_type": "code",
      "source": [
        "joinType = \"left_outer\"\n",
        "\n",
        "graduateProgram.join(person,joinExpression,joinType).show()"
      ],
      "metadata": {
        "colab": {
          "base_uri": "https://localhost:8080/"
        },
        "id": "TD6K15iQLYzZ",
        "outputId": "2aa278f5-81b5-4640-e4fe-5c13aba1dd3f"
      },
      "execution_count": null,
      "outputs": [
        {
          "output_type": "stream",
          "name": "stdout",
          "text": [
            "+---+-------+--------------------+-----------+----+----------------+----------------+---------------+\n",
            "| id| degree|          department|     school|  id|            name|graduate_program|   spark_status|\n",
            "+---+-------+--------------------+-----------+----+----------------+----------------+---------------+\n",
            "|  0|Masters|School of Informa...|UC Berkeley|   0|   Bill Chambers|               0|          [100]|\n",
            "|  1|  Ph.D.|                EECS|UC Berkeley|   2|Michael Armbrust|               1|     [250, 100]|\n",
            "|  1|  Ph.D.|                EECS|UC Berkeley|   1|   Matei Zaharia|               1|[500, 250, 100]|\n",
            "|  2|Masters|                EECS|UC Berkeley|NULL|            NULL|            NULL|           NULL|\n",
            "+---+-------+--------------------+-----------+----+----------------+----------------+---------------+\n",
            "\n"
          ]
        }
      ]
    },
    {
      "cell_type": "markdown",
      "source": [
        "### Right Outer Joins"
      ],
      "metadata": {
        "id": "cgdZ2TVNL9pc"
      }
    },
    {
      "cell_type": "code",
      "source": [
        "joinType=\"right_outer\"\n",
        "\n",
        "person.join(graduateProgram,joinExpression,joinType).show()"
      ],
      "metadata": {
        "colab": {
          "base_uri": "https://localhost:8080/"
        },
        "id": "x0okdhXAL1yF",
        "outputId": "a3a7d252-8a74-456b-8a0b-e35991589cca"
      },
      "execution_count": null,
      "outputs": [
        {
          "output_type": "stream",
          "name": "stdout",
          "text": [
            "+----+----------------+----------------+---------------+---+-------+--------------------+-----------+\n",
            "|  id|            name|graduate_program|   spark_status| id| degree|          department|     school|\n",
            "+----+----------------+----------------+---------------+---+-------+--------------------+-----------+\n",
            "|   0|   Bill Chambers|               0|          [100]|  0|Masters|School of Informa...|UC Berkeley|\n",
            "|   2|Michael Armbrust|               1|     [250, 100]|  1|  Ph.D.|                EECS|UC Berkeley|\n",
            "|   1|   Matei Zaharia|               1|[500, 250, 100]|  1|  Ph.D.|                EECS|UC Berkeley|\n",
            "|NULL|            NULL|            NULL|           NULL|  2|Masters|                EECS|UC Berkeley|\n",
            "+----+----------------+----------------+---------------+---+-------+--------------------+-----------+\n",
            "\n"
          ]
        }
      ]
    },
    {
      "cell_type": "markdown",
      "source": [
        "### Left Semi Joins"
      ],
      "metadata": {
        "id": "SvSQbi_9R0HU"
      }
    },
    {
      "cell_type": "code",
      "source": [
        "joinType=\"left_semi\"\n",
        "graduateProgram.join(person,joinExpression,joinType).show()"
      ],
      "metadata": {
        "colab": {
          "base_uri": "https://localhost:8080/"
        },
        "id": "77ViMWD0ML9T",
        "outputId": "b9f157c0-a666-439a-be2d-090df9259d34"
      },
      "execution_count": null,
      "outputs": [
        {
          "output_type": "stream",
          "name": "stdout",
          "text": [
            "+---+-------+--------------------+-----------+\n",
            "| id| degree|          department|     school|\n",
            "+---+-------+--------------------+-----------+\n",
            "|  0|Masters|School of Informa...|UC Berkeley|\n",
            "|  1|  Ph.D.|                EECS|UC Berkeley|\n",
            "+---+-------+--------------------+-----------+\n",
            "\n"
          ]
        }
      ]
    },
    {
      "cell_type": "code",
      "source": [
        "gradProgram2=graduateProgram\\\n",
        "      .union(spark.createDataFrame([\n",
        "          (0,\"Masters\",\"Duplicated Row\",\"Duplicated School\")\n",
        "      ]))"
      ],
      "metadata": {
        "id": "QJtUm9ijSK7Q"
      },
      "execution_count": null,
      "outputs": []
    },
    {
      "cell_type": "code",
      "source": [
        "gradProgram2.createOrReplaceTempView(\"gradProgram2\")\n",
        "gradProgram2.join(person,joinExpression,joinType).show()"
      ],
      "metadata": {
        "colab": {
          "base_uri": "https://localhost:8080/"
        },
        "id": "sF5ObiU9Se4t",
        "outputId": "11a7b15d-2d0a-42f1-e966-88efcd353353"
      },
      "execution_count": null,
      "outputs": [
        {
          "output_type": "stream",
          "name": "stdout",
          "text": [
            "+---+-------+--------------------+-----------------+\n",
            "| id| degree|          department|           school|\n",
            "+---+-------+--------------------+-----------------+\n",
            "|  0|Masters|School of Informa...|      UC Berkeley|\n",
            "|  1|  Ph.D.|                EECS|      UC Berkeley|\n",
            "|  0|Masters|      Duplicated Row|Duplicated School|\n",
            "+---+-------+--------------------+-----------------+\n",
            "\n"
          ]
        }
      ]
    },
    {
      "cell_type": "markdown",
      "source": [
        "### Left Anti Joins"
      ],
      "metadata": {
        "id": "oL7y-zG-TCip"
      }
    },
    {
      "cell_type": "code",
      "source": [
        "joinType = \"left_anti\"\n",
        "graduateProgram.join(person,joinExpression,joinType).show()"
      ],
      "metadata": {
        "colab": {
          "base_uri": "https://localhost:8080/"
        },
        "id": "J7boCPYeS5eW",
        "outputId": "799c500d-ae9f-412e-f47b-5308fd6c8580"
      },
      "execution_count": null,
      "outputs": [
        {
          "output_type": "stream",
          "name": "stdout",
          "text": [
            "+---+-------+----------+-----------+\n",
            "| id| degree|department|     school|\n",
            "+---+-------+----------+-----------+\n",
            "|  2|Masters|      EECS|UC Berkeley|\n",
            "+---+-------+----------+-----------+\n",
            "\n"
          ]
        }
      ]
    },
    {
      "cell_type": "markdown",
      "source": [
        "### Cross (Cartesian) Joins"
      ],
      "metadata": {
        "id": "wI61kzepTkAO"
      }
    },
    {
      "cell_type": "code",
      "source": [
        "joinType=\"cross\"\n",
        "graduateProgram.join(person,joinExpression,joinType).show()"
      ],
      "metadata": {
        "colab": {
          "base_uri": "https://localhost:8080/"
        },
        "id": "Icqy4XC6TSKI",
        "outputId": "c828fc6c-358f-4aa1-d996-b0e3858877de"
      },
      "execution_count": null,
      "outputs": [
        {
          "output_type": "stream",
          "name": "stdout",
          "text": [
            "+---+-------+--------------------+-----------+---+----------------+----------------+---------------+\n",
            "| id| degree|          department|     school| id|            name|graduate_program|   spark_status|\n",
            "+---+-------+--------------------+-----------+---+----------------+----------------+---------------+\n",
            "|  0|Masters|School of Informa...|UC Berkeley|  0|   Bill Chambers|               0|          [100]|\n",
            "|  1|  Ph.D.|                EECS|UC Berkeley|  1|   Matei Zaharia|               1|[500, 250, 100]|\n",
            "|  1|  Ph.D.|                EECS|UC Berkeley|  2|Michael Armbrust|               1|     [250, 100]|\n",
            "+---+-------+--------------------+-----------+---+----------------+----------------+---------------+\n",
            "\n"
          ]
        }
      ]
    },
    {
      "cell_type": "code",
      "source": [
        "person.crossJoin(graduateProgram).show()"
      ],
      "metadata": {
        "colab": {
          "base_uri": "https://localhost:8080/"
        },
        "id": "p5kMefcoUBl9",
        "outputId": "f7fdeec8-0bf5-4609-ad78-037fb21bccc2"
      },
      "execution_count": null,
      "outputs": [
        {
          "output_type": "stream",
          "name": "stdout",
          "text": [
            "+---+----------------+----------------+---------------+---+-------+--------------------+-----------+\n",
            "| id|            name|graduate_program|   spark_status| id| degree|          department|     school|\n",
            "+---+----------------+----------------+---------------+---+-------+--------------------+-----------+\n",
            "|  0|   Bill Chambers|               0|          [100]|  0|Masters|School of Informa...|UC Berkeley|\n",
            "|  0|   Bill Chambers|               0|          [100]|  2|Masters|                EECS|UC Berkeley|\n",
            "|  0|   Bill Chambers|               0|          [100]|  1|  Ph.D.|                EECS|UC Berkeley|\n",
            "|  1|   Matei Zaharia|               1|[500, 250, 100]|  0|Masters|School of Informa...|UC Berkeley|\n",
            "|  2|Michael Armbrust|               1|     [250, 100]|  0|Masters|School of Informa...|UC Berkeley|\n",
            "|  1|   Matei Zaharia|               1|[500, 250, 100]|  2|Masters|                EECS|UC Berkeley|\n",
            "|  1|   Matei Zaharia|               1|[500, 250, 100]|  1|  Ph.D.|                EECS|UC Berkeley|\n",
            "|  2|Michael Armbrust|               1|     [250, 100]|  2|Masters|                EECS|UC Berkeley|\n",
            "|  2|Michael Armbrust|               1|     [250, 100]|  1|  Ph.D.|                EECS|UC Berkeley|\n",
            "+---+----------------+----------------+---------------+---+-------+--------------------+-----------+\n",
            "\n"
          ]
        }
      ]
    },
    {
      "cell_type": "markdown",
      "source": [
        "### Joins on Complex Types"
      ],
      "metadata": {
        "id": "RqMdBRoPUjHy"
      }
    },
    {
      "cell_type": "code",
      "source": [
        "from pyspark.sql.functions import expr\n",
        "\n",
        "person\\\n",
        "  .withColumnRenamed(\"id\",\"personId\")\\\n",
        "  .join(sparkStatus,expr(\"array_contains(spark_status,id)\"))\\\n",
        "  .take(5)"
      ],
      "metadata": {
        "colab": {
          "base_uri": "https://localhost:8080/"
        },
        "id": "ttPNxEjbUOHz",
        "outputId": "248f747e-1780-4af1-afb8-a25cb39a5051"
      },
      "execution_count": null,
      "outputs": [
        {
          "output_type": "execute_result",
          "data": {
            "text/plain": [
              "[Row(personId=0, name='Bill Chambers', graduate_program=0, spark_status=[100], id=100, status='Contributor'),\n",
              " Row(personId=1, name='Matei Zaharia', graduate_program=1, spark_status=[500, 250, 100], id=500, status='Vice President'),\n",
              " Row(personId=1, name='Matei Zaharia', graduate_program=1, spark_status=[500, 250, 100], id=250, status='PMC Member'),\n",
              " Row(personId=1, name='Matei Zaharia', graduate_program=1, spark_status=[500, 250, 100], id=100, status='Contributor'),\n",
              " Row(personId=2, name='Michael Armbrust', graduate_program=1, spark_status=[250, 100], id=250, status='PMC Member')]"
            ]
          },
          "metadata": {},
          "execution_count": 20
        }
      ]
    },
    {
      "cell_type": "markdown",
      "source": [
        "### Handling Duplicate Column Names"
      ],
      "metadata": {
        "id": "vRVhnUagVNdt"
      }
    },
    {
      "cell_type": "code",
      "source": [
        "gradProgramDupe = graduateProgram.withColumnRenamed(\"id\", \"graduate_program\")\n",
        "joinExpr = gradProgramDupe[\"graduate_program\"] == person[\"graduate_program\"]\n",
        "joinedDF = person.join(gradProgramDupe, joinExpr)\n",
        "joinedDF.show()\n"
      ],
      "metadata": {
        "colab": {
          "base_uri": "https://localhost:8080/"
        },
        "id": "O5u3wQ2PVCkR",
        "outputId": "5689089c-e5d9-4c7c-e982-936e5fd8875e"
      },
      "execution_count": null,
      "outputs": [
        {
          "output_type": "stream",
          "name": "stdout",
          "text": [
            "+---+----------------+----------------+---------------+----------------+-------+--------------------+-----------+\n",
            "| id|            name|graduate_program|   spark_status|graduate_program| degree|          department|     school|\n",
            "+---+----------------+----------------+---------------+----------------+-------+--------------------+-----------+\n",
            "|  0|   Bill Chambers|               0|          [100]|               0|Masters|School of Informa...|UC Berkeley|\n",
            "|  1|   Matei Zaharia|               1|[500, 250, 100]|               1|  Ph.D.|                EECS|UC Berkeley|\n",
            "|  2|Michael Armbrust|               1|     [250, 100]|               1|  Ph.D.|                EECS|UC Berkeley|\n",
            "+---+----------------+----------------+---------------+----------------+-------+--------------------+-----------+\n",
            "\n"
          ]
        }
      ]
    },
    {
      "cell_type": "code",
      "source": [
        "joinedDF.select(\"graduate_program\").show()  # Will throw an AnalysisException\n"
      ],
      "metadata": {
        "colab": {
          "base_uri": "https://localhost:8080/",
          "height": 356
        },
        "id": "fipQiLUTV8qw",
        "outputId": "8148d9b7-368e-40df-f16b-697c2b786c09"
      },
      "execution_count": null,
      "outputs": [
        {
          "output_type": "error",
          "ename": "AnalysisException",
          "evalue": "[AMBIGUOUS_REFERENCE] Reference `graduate_program` is ambiguous, could be: [`graduate_program`, `graduate_program`].",
          "traceback": [
            "\u001b[0;31m---------------------------------------------------------------------------\u001b[0m",
            "\u001b[0;31mAnalysisException\u001b[0m                         Traceback (most recent call last)",
            "\u001b[0;32m/tmp/ipython-input-22-1486540655.py\u001b[0m in \u001b[0;36m<cell line: 0>\u001b[0;34m()\u001b[0m\n\u001b[0;32m----> 1\u001b[0;31m \u001b[0mjoinedDF\u001b[0m\u001b[0;34m.\u001b[0m\u001b[0mselect\u001b[0m\u001b[0;34m(\u001b[0m\u001b[0;34m\"graduate_program\"\u001b[0m\u001b[0;34m)\u001b[0m\u001b[0;34m.\u001b[0m\u001b[0mshow\u001b[0m\u001b[0;34m(\u001b[0m\u001b[0;34m)\u001b[0m  \u001b[0;31m# Will throw an AnalysisException\u001b[0m\u001b[0;34m\u001b[0m\u001b[0;34m\u001b[0m\u001b[0m\n\u001b[0m",
            "\u001b[0;32m/usr/local/lib/python3.11/dist-packages/pyspark/sql/dataframe.py\u001b[0m in \u001b[0;36mselect\u001b[0;34m(self, *cols)\u001b[0m\n\u001b[1;32m   3225\u001b[0m         \u001b[0;34m+\u001b[0m\u001b[0;34m-\u001b[0m\u001b[0;34m-\u001b[0m\u001b[0;34m-\u001b[0m\u001b[0;34m-\u001b[0m\u001b[0;34m-\u001b[0m\u001b[0;34m+\u001b[0m\u001b[0;34m-\u001b[0m\u001b[0;34m-\u001b[0m\u001b[0;34m-\u001b[0m\u001b[0;34m+\u001b[0m\u001b[0;34m\u001b[0m\u001b[0;34m\u001b[0m\u001b[0m\n\u001b[1;32m   3226\u001b[0m         \"\"\"\n\u001b[0;32m-> 3227\u001b[0;31m         \u001b[0mjdf\u001b[0m \u001b[0;34m=\u001b[0m \u001b[0mself\u001b[0m\u001b[0;34m.\u001b[0m\u001b[0m_jdf\u001b[0m\u001b[0;34m.\u001b[0m\u001b[0mselect\u001b[0m\u001b[0;34m(\u001b[0m\u001b[0mself\u001b[0m\u001b[0;34m.\u001b[0m\u001b[0m_jcols\u001b[0m\u001b[0;34m(\u001b[0m\u001b[0;34m*\u001b[0m\u001b[0mcols\u001b[0m\u001b[0;34m)\u001b[0m\u001b[0;34m)\u001b[0m\u001b[0;34m\u001b[0m\u001b[0;34m\u001b[0m\u001b[0m\n\u001b[0m\u001b[1;32m   3228\u001b[0m         \u001b[0;32mreturn\u001b[0m \u001b[0mDataFrame\u001b[0m\u001b[0;34m(\u001b[0m\u001b[0mjdf\u001b[0m\u001b[0;34m,\u001b[0m \u001b[0mself\u001b[0m\u001b[0;34m.\u001b[0m\u001b[0msparkSession\u001b[0m\u001b[0;34m)\u001b[0m\u001b[0;34m\u001b[0m\u001b[0;34m\u001b[0m\u001b[0m\n\u001b[1;32m   3229\u001b[0m \u001b[0;34m\u001b[0m\u001b[0m\n",
            "\u001b[0;32m/usr/local/lib/python3.11/dist-packages/py4j/java_gateway.py\u001b[0m in \u001b[0;36m__call__\u001b[0;34m(self, *args)\u001b[0m\n\u001b[1;32m   1320\u001b[0m \u001b[0;34m\u001b[0m\u001b[0m\n\u001b[1;32m   1321\u001b[0m         \u001b[0manswer\u001b[0m \u001b[0;34m=\u001b[0m \u001b[0mself\u001b[0m\u001b[0;34m.\u001b[0m\u001b[0mgateway_client\u001b[0m\u001b[0;34m.\u001b[0m\u001b[0msend_command\u001b[0m\u001b[0;34m(\u001b[0m\u001b[0mcommand\u001b[0m\u001b[0;34m)\u001b[0m\u001b[0;34m\u001b[0m\u001b[0;34m\u001b[0m\u001b[0m\n\u001b[0;32m-> 1322\u001b[0;31m         return_value = get_return_value(\n\u001b[0m\u001b[1;32m   1323\u001b[0m             answer, self.gateway_client, self.target_id, self.name)\n\u001b[1;32m   1324\u001b[0m \u001b[0;34m\u001b[0m\u001b[0m\n",
            "\u001b[0;32m/usr/local/lib/python3.11/dist-packages/pyspark/errors/exceptions/captured.py\u001b[0m in \u001b[0;36mdeco\u001b[0;34m(*a, **kw)\u001b[0m\n\u001b[1;32m    183\u001b[0m                 \u001b[0;31m# Hide where the exception came from that shows a non-Pythonic\u001b[0m\u001b[0;34m\u001b[0m\u001b[0;34m\u001b[0m\u001b[0m\n\u001b[1;32m    184\u001b[0m                 \u001b[0;31m# JVM exception message.\u001b[0m\u001b[0;34m\u001b[0m\u001b[0;34m\u001b[0m\u001b[0m\n\u001b[0;32m--> 185\u001b[0;31m                 \u001b[0;32mraise\u001b[0m \u001b[0mconverted\u001b[0m \u001b[0;32mfrom\u001b[0m \u001b[0;32mNone\u001b[0m\u001b[0;34m\u001b[0m\u001b[0;34m\u001b[0m\u001b[0m\n\u001b[0m\u001b[1;32m    186\u001b[0m             \u001b[0;32melse\u001b[0m\u001b[0;34m:\u001b[0m\u001b[0;34m\u001b[0m\u001b[0;34m\u001b[0m\u001b[0m\n\u001b[1;32m    187\u001b[0m                 \u001b[0;32mraise\u001b[0m\u001b[0;34m\u001b[0m\u001b[0;34m\u001b[0m\u001b[0m\n",
            "\u001b[0;31mAnalysisException\u001b[0m: [AMBIGUOUS_REFERENCE] Reference `graduate_program` is ambiguous, could be: [`graduate_program`, `graduate_program`]."
          ]
        }
      ]
    },
    {
      "cell_type": "markdown",
      "source": [
        "### Approach 1: Different Join Expression"
      ],
      "metadata": {
        "id": "ZrTf34GTXWox"
      }
    },
    {
      "cell_type": "code",
      "source": [
        "person.join(gradProgramDupe, \"graduate_program\")\\\n",
        "      .select(\"graduate_program\")\\\n",
        "      .show()\n"
      ],
      "metadata": {
        "colab": {
          "base_uri": "https://localhost:8080/"
        },
        "id": "VJn2u12dXNN6",
        "outputId": "3101f2a5-278f-40af-ace6-6a5cb2372e9b"
      },
      "execution_count": null,
      "outputs": [
        {
          "output_type": "stream",
          "name": "stdout",
          "text": [
            "+----------------+\n",
            "|graduate_program|\n",
            "+----------------+\n",
            "|               0|\n",
            "|               1|\n",
            "|               1|\n",
            "+----------------+\n",
            "\n"
          ]
        }
      ]
    },
    {
      "cell_type": "markdown",
      "source": [
        "### Dropping the Column After the Join"
      ],
      "metadata": {
        "id": "zZdtZQ6BX1Xu"
      }
    },
    {
      "cell_type": "code",
      "source": [
        "joinedDF.drop(person[\"graduate_program\"])\\\n",
        ".select(\"graduate_program\")\\\n",
        ".show()\n"
      ],
      "metadata": {
        "colab": {
          "base_uri": "https://localhost:8080/"
        },
        "id": "kC-e6dfwX0Ns",
        "outputId": "082da3ad-065d-4309-b765-7d94db9d7939"
      },
      "execution_count": null,
      "outputs": [
        {
          "output_type": "stream",
          "name": "stdout",
          "text": [
            "+----------------+\n",
            "|graduate_program|\n",
            "+----------------+\n",
            "|               0|\n",
            "|               1|\n",
            "|               1|\n",
            "+----------------+\n",
            "\n"
          ]
        }
      ]
    },
    {
      "cell_type": "markdown",
      "source": [
        "### Renaming a Column Before the Join"
      ],
      "metadata": {
        "id": "b1G4BF63YJjG"
      }
    },
    {
      "cell_type": "code",
      "source": [
        "gradProgramSafe = graduateProgram.withColumnRenamed(\"id\", \"grad_id\")\n",
        "joinExpr = gradProgramSafe[\"grad_id\"] == person[\"graduate_program\"]\n",
        "person.join(gradProgramSafe, joinExpr).show()\n"
      ],
      "metadata": {
        "colab": {
          "base_uri": "https://localhost:8080/"
        },
        "id": "H1_8HjdzXomR",
        "outputId": "dfef8c8c-198a-4f2a-9193-213e8d1b7b37"
      },
      "execution_count": null,
      "outputs": [
        {
          "output_type": "stream",
          "name": "stdout",
          "text": [
            "+---+----------------+----------------+---------------+-------+-------+--------------------+-----------+\n",
            "| id|            name|graduate_program|   spark_status|grad_id| degree|          department|     school|\n",
            "+---+----------------+----------------+---------------+-------+-------+--------------------+-----------+\n",
            "|  0|   Bill Chambers|               0|          [100]|      0|Masters|School of Informa...|UC Berkeley|\n",
            "|  1|   Matei Zaharia|               1|[500, 250, 100]|      1|  Ph.D.|                EECS|UC Berkeley|\n",
            "|  2|Michael Armbrust|               1|     [250, 100]|      1|  Ph.D.|                EECS|UC Berkeley|\n",
            "+---+----------------+----------------+---------------+-------+-------+--------------------+-----------+\n",
            "\n"
          ]
        }
      ]
    },
    {
      "cell_type": "code",
      "source": [
        "joinExpression = person[\"graduate_program\"]==graduateProgram[\"id\"]"
      ],
      "metadata": {
        "id": "k6TzLs0AYUpo"
      },
      "execution_count": null,
      "outputs": []
    },
    {
      "cell_type": "code",
      "source": [
        "person.join(graduateProgram,joinExpression).explain()"
      ],
      "metadata": {
        "colab": {
          "base_uri": "https://localhost:8080/"
        },
        "id": "ulAj-DiUGx6v",
        "outputId": "9b36ec89-a909-48c0-a52a-5a21e21b5e6e"
      },
      "execution_count": null,
      "outputs": [
        {
          "output_type": "stream",
          "name": "stdout",
          "text": [
            "== Physical Plan ==\n",
            "AdaptiveSparkPlan isFinalPlan=false\n",
            "+- SortMergeJoin [graduate_program#10L], [id#24L], Inner\n",
            "   :- Sort [graduate_program#10L ASC NULLS FIRST], false, 0\n",
            "   :  +- Exchange hashpartitioning(graduate_program#10L, 200), ENSURE_REQUIREMENTS, [plan_id=1937]\n",
            "   :     +- Project [_1#0L AS id#8L, _2#1 AS name#9, _3#2L AS graduate_program#10L, _4#3 AS spark_status#11]\n",
            "   :        +- Filter isnotnull(_3#2L)\n",
            "   :           +- Scan ExistingRDD[_1#0L,_2#1,_3#2L,_4#3]\n",
            "   +- Sort [id#24L ASC NULLS FIRST], false, 0\n",
            "      +- Exchange hashpartitioning(id#24L, 200), ENSURE_REQUIREMENTS, [plan_id=1938]\n",
            "         +- Project [_1#16L AS id#24L, _2#17 AS degree#25, _3#18 AS department#26, _4#19 AS school#27]\n",
            "            +- Filter isnotnull(_1#16L)\n",
            "               +- Scan ExistingRDD[_1#16L,_2#17,_3#18,_4#19]\n",
            "\n",
            "\n"
          ]
        }
      ]
    },
    {
      "cell_type": "markdown",
      "source": [
        "### Broadcast join"
      ],
      "metadata": {
        "id": "1rsgVGN3H54g"
      }
    },
    {
      "cell_type": "code",
      "source": [
        "from pyspark.sql.functions import broadcast\n",
        "\n",
        "person.join(broadcast(graduateProgram),joinExpression).explain()"
      ],
      "metadata": {
        "colab": {
          "base_uri": "https://localhost:8080/"
        },
        "id": "Z_8yZzsLHrs_",
        "outputId": "b7f078fd-2231-4e27-c7e9-d2fc72069cf7"
      },
      "execution_count": null,
      "outputs": [
        {
          "output_type": "stream",
          "name": "stdout",
          "text": [
            "== Physical Plan ==\n",
            "AdaptiveSparkPlan isFinalPlan=false\n",
            "+- BroadcastHashJoin [graduate_program#10L], [id#24L], Inner, BuildRight, false\n",
            "   :- Project [_1#0L AS id#8L, _2#1 AS name#9, _3#2L AS graduate_program#10L, _4#3 AS spark_status#11]\n",
            "   :  +- Filter isnotnull(_3#2L)\n",
            "   :     +- Scan ExistingRDD[_1#0L,_2#1,_3#2L,_4#3]\n",
            "   +- BroadcastExchange HashedRelationBroadcastMode(List(input[0, bigint, true]),false), [plan_id=1970]\n",
            "      +- Project [_1#16L AS id#24L, _2#17 AS degree#25, _3#18 AS department#26, _4#19 AS school#27]\n",
            "         +- Filter isnotnull(_1#16L)\n",
            "            +- Scan ExistingRDD[_1#16L,_2#17,_3#18,_4#19]\n",
            "\n",
            "\n"
          ]
        }
      ]
    },
    {
      "cell_type": "code",
      "source": [],
      "metadata": {
        "id": "M21ckLeKIWI7"
      },
      "execution_count": null,
      "outputs": []
    }
  ]
}